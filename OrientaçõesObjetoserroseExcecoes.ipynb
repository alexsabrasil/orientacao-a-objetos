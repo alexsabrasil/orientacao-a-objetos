{
  "nbformat": 4,
  "nbformat_minor": 0,
  "metadata": {
    "colab": {
      "provenance": [],
      "authorship_tag": "ABX9TyPNPt06nD/Hk+1hCmAFpwqG",
      "include_colab_link": true
    },
    "kernelspec": {
      "name": "python3",
      "display_name": "Python 3"
    },
    "language_info": {
      "name": "python"
    }
  },
  "cells": [
    {
      "cell_type": "markdown",
      "metadata": {
        "id": "view-in-github",
        "colab_type": "text"
      },
      "source": [
        "<a href=\"https://colab.research.google.com/github/alexsabrasil/orientacao-a-objetos/blob/main/Orienta%C3%A7%C3%B5esObjetoserroseExcecoes.ipynb\" target=\"_parent\"><img src=\"https://colab.research.google.com/assets/colab-badge.svg\" alt=\"Open In Colab\"/></a>"
      ]
    },
    {
      "cell_type": "markdown",
      "source": [
        "**Exercícios Orientação a Objetos | Modelando o Sistema | Classes e Objetos**\n",
        "\n",
        "Exercício 1\n",
        "\n",
        "1. Crie uma classe que modele o objeto \"carro\".\n",
        "2. Um carro tem os seguintes atributos: ligado, cor, modelo,\n",
        "velocidade.\n",
        "3. Um carro tem os seguintes comportamentos: liga, desliga, acelera,\n",
        "desacelera.\n",
        "4. Crie uma instância da classe carro.\n",
        "5. Faça o carro \"andar\" utilizando os métodos da sua classe.\n",
        "6. Faça o carro \"parar\" utilizando os métodos da sua classe"
      ],
      "metadata": {
        "id": "4oXnVCuaNVxA"
      }
    },
    {
      "cell_type": "code",
      "source": [
        "class Carro:\n",
        "    def __init__(self, cor, modelo):\n",
        "        self.ligado = False\n",
        "        self.cor = cor\n",
        "        self.modelo = modelo\n",
        "        self.velocidade = 0\n",
        "\n",
        "    def liga(self):\n",
        "        if not self.ligado:\n",
        "            self.ligado = True\n",
        "            print(f\"O carro {self.modelo} está ligado.\")\n",
        "        else:\n",
        "            print(f\"O carro {self.modelo} já está ligado.\")\n",
        "\n",
        "    def desliga(self):\n",
        "        if self.ligado:\n",
        "            self.ligado = False\n",
        "            self.velocidade = 0\n",
        "            print(f\"O carro {self.modelo} está desligado.\")\n",
        "        else:\n",
        "            print(f\"O carro {self.modelo} já está desligado.\")\n",
        "\n",
        "    def acelera(self, incremento):\n",
        "        if self.ligado:\n",
        "            self.velocidade += incremento\n",
        "            print(f\"O carro {self.modelo} acelerou para {self.velocidade} km/h.\")\n",
        "        else:\n",
        "            print(\"O carro está desligado. Não pode acelerar.\")\n",
        "\n",
        "    def desacelera(self, decremento):\n",
        "        if self.ligado and self.velocidade > 0:\n",
        "            self.velocidade -= decremento\n",
        "            if self.velocidade < 0:\n",
        "                self.velocidade = 0\n",
        "            print(f\"O carro {self.modelo} desacelerou para {self.velocidade} km/h.\")\n",
        "        else:\n",
        "            print(\"O carro está desligado ou já está parado. Não pode desacelerar mais.\")\n",
        "\n",
        "# Criação de uma instância do carro\n",
        "meu_carro = Carro(cor=\"vermelho\", modelo=\"Ferrari\")\n",
        "\n",
        "# Fazer o carro \"andar\"\n",
        "meu_carro.liga()         # Liga o carro\n",
        "meu_carro.acelera(30)    # Acelera o carro para 30 km/h\n",
        "meu_carro.acelera(20)    # Acelera o carro para 50 km/h\n",
        "\n",
        "# Fazer o carro \"parar\"\n",
        "meu_carro.desacelera(20) # Desacelera o carro para 30 km/h\n",
        "meu_carro.desacelera(30) # Desacelera o carro para 0 km/h\n",
        "meu_carro.desliga()      # Desliga o carro\n"
      ],
      "metadata": {
        "colab": {
          "base_uri": "https://localhost:8080/"
        },
        "id": "lzJ1ezwmNn9d",
        "outputId": "b21b46ec-5e7f-47a6-e62e-53d89ace8c78"
      },
      "execution_count": 9,
      "outputs": [
        {
          "output_type": "stream",
          "name": "stdout",
          "text": [
            "O carro Ferrari está ligado.\n",
            "O carro Ferrari acelerou para 30 km/h.\n",
            "O carro Ferrari acelerou para 50 km/h.\n",
            "O carro Ferrari desacelerou para 30 km/h.\n",
            "O carro Ferrari desacelerou para 0 km/h.\n",
            "O carro Ferrari está desligado.\n"
          ]
        }
      ]
    },
    {
      "cell_type": "markdown",
      "source": [
        "**Exercícios Orientação a Objetos | Modelando o Sistema**\n",
        "\n",
        "2. O banco Banco Delas é um banco moderno e eficiente, com\n",
        "vantagens exclusivas para clientes mulheres.\n",
        "\n",
        "Modele um sistema orientado a objetos para representar contas\n",
        "correntes do Banco Delas seguindo os requisitos abaixo.\n",
        "\n",
        "● Cada conta corrente pode ter um ou mais clientes como\n",
        "titular.\n",
        "\n",
        "● O banco controla apenas o nome, o telefone e a renda\n",
        "mensal de cada cliente.\n",
        "\n",
        "● A conta corrente apresenta um saldo e uma lista de\n",
        "operações de saques e depósitos.\n",
        "\n",
        "● Quando a cliente fizer um saque, diminuiremos o saldo da\n",
        "conta corrente. Quando ela fizer um depósito,\n",
        "aumentaremos o saldo.\n",
        "\n",
        "● Clientes mulheres possuem em suas contas um cheque\n",
        "especial de valor igual à sua renda mensal, ou seja, elas\n",
        "podem sacar valores que deixam a sua conta com valor\n",
        "negativo até renda_mensal.\n",
        "\n",
        "● Clientes homens por enquanto não têm direito a cheque\n",
        "especial.\n",
        "\n",
        "Para modelar seu sistema, utilize obrigatoriamente os conceitos\n",
        "\"classe\", \"herança\", \"propriedades\", \"encapsulamento\" e \"classe\n",
        "abstrata\"."
      ],
      "metadata": {
        "id": "zQVj-WJaK12-"
      }
    },
    {
      "cell_type": "code",
      "source": [
        "from abc import ABC, abstractmethod\n",
        "\n",
        "class Cliente(ABC):\n",
        "    def __init__(self, nome, telefone, renda_mensal):\n",
        "        self.nome = nome\n",
        "        self.telefone = telefone\n",
        "        self.renda_mensal = renda_mensal\n",
        "\n",
        "    @abstractmethod\n",
        "    def get_cheque_especial(self):\n",
        "        pass\n",
        "\n",
        "class ClienteFeminino(Cliente):\n",
        "    def get_cheque_especial(self):\n",
        "        return self.renda_mensal\n",
        "\n",
        "class ClienteMasculino(Cliente):\n",
        "    def get_cheque_especial(self):\n",
        "        return self.renda_mensal * 0.5\n",
        "\n",
        "class ContaCorrente:\n",
        "    def __init__(self):\n",
        "        self.clientes = []\n",
        "        self.saldo = 0.0\n",
        "        self.operacoes = []\n",
        "\n",
        "    def adicionar_cliente(self, cliente):\n",
        "        self.clientes.append(cliente)\n",
        "\n",
        "    def calcular_limite(self):\n",
        "        return sum(cliente.get_cheque_especial() for cliente in self.clientes)\n",
        "\n",
        "    def sacar(self, valor):\n",
        "        limite = self.calcular_limite()\n",
        "        if self.saldo - valor >= -limite:\n",
        "            self.saldo -= valor\n",
        "            self.operacoes.append(f\"Saque: -R${valor:.2f}\")\n",
        "        else:\n",
        "            raise ValueError(\"Saldo insuficiente, mesmo considerando o cheque especial.\")\n",
        "\n",
        "    def depositar(self, valor):\n",
        "        self.saldo += valor\n",
        "        self.operacoes.append(f\"Depósito: +R${valor:.2f}\")\n",
        "\n",
        "    def extrato(self):\n",
        "        print(\"Extrato da conta:\")\n",
        "        for operacao in self.operacoes:\n",
        "            print(operacao)\n",
        "        print(f\"Saldo atual: R${self.saldo:.2f}\")\n",
        "        print(f\"Limite disponível (incluindo cheque especial): R${self.saldo + self.calcular_limite():.2f}\")\n",
        "\n",
        "# Exemplo de uso:\n",
        "cliente1 = ClienteFeminino(nome=\"Maria\", telefone=\"123456789\", renda_mensal=2000.0)\n",
        "cliente2 = ClienteMasculino(nome=\"João\", telefone=\"987654321\", renda_mensal=3000.0)\n",
        "\n",
        "conta = ContaCorrente()\n",
        "conta.adicionar_cliente(cliente1)\n",
        "conta.adicionar_cliente(cliente2)\n",
        "\n",
        "conta.depositar(500)\n",
        "conta.sacar(100)\n",
        "conta.sacar(2500)  # Isso deve funcionar devido ao cheque especial de Maria\n",
        "\n",
        "conta.extrato()\n"
      ],
      "metadata": {
        "colab": {
          "base_uri": "https://localhost:8080/"
        },
        "id": "TiO0H3ngL98x",
        "outputId": "1f34dc05-b52d-4339-ba37-faf53b65648d"
      },
      "execution_count": 5,
      "outputs": [
        {
          "output_type": "stream",
          "name": "stdout",
          "text": [
            "Extrato da conta:\n",
            "Depósito: +R$500.00\n",
            "Saque: -R$100.00\n",
            "Saque: -R$2500.00\n",
            "Saldo atual: R$-2100.00\n",
            "Limite disponível (incluindo cheque especial): R$1400.00\n"
          ]
        }
      ]
    },
    {
      "cell_type": "markdown",
      "source": [
        "**Exercícios Orientação a Objetos | Erros e Exceções**\n",
        "\n",
        "3. O programa abaixo deve calcular a média dos valores digitados\n",
        "pelo usuário. No entanto, ele não está funcionando bem. Você pode\n",
        "consertá-lo?\n",
        "\n",
        "def calcular_media(valores):\n",
        "  tamanho = 1\n",
        "  soma = 0.0\n",
        "  for i, valor in enumerate(valores):\n",
        "      soma += valor\n",
        "      i += 1\n",
        "  media = soma / tamanho\n",
        "\n",
        "continuar = True\n",
        "valores = []\n",
        "while continuar:\n",
        "  valor = input('Digite um número para entrar na sua média ou \"ok\" para calcular o valor:')\n",
        "  if valor.lower() == 'ok':\n",
        "    calcular = false\n",
        "\n",
        "\n",
        "media = calcular_media(valores)\n",
        "print('a média calculada para os valores {} foi de {}'.format(valores, media))\n"
      ],
      "metadata": {
        "id": "E3K43DBxGFQP"
      }
    },
    {
      "cell_type": "markdown",
      "source": [
        "**Explicação**\n",
        "\n",
        " No código fornecido contem um erro de digitação. Python diferencia maiúsculas de minúsculas e os valores booleanos são representados por e , não ou .True False true false.\n",
        "\n",
        " Feito isso o resultado saiu como esperado."
      ],
      "metadata": {
        "id": "5bpriqf3JAp8"
      }
    },
    {
      "cell_type": "code",
      "execution_count": 2,
      "metadata": {
        "colab": {
          "base_uri": "https://localhost:8080/"
        },
        "id": "tacuUGOwF2dC",
        "outputId": "fef2e78f-84fc-4f51-b32b-210480935905"
      },
      "outputs": [
        {
          "output_type": "stream",
          "name": "stdout",
          "text": [
            "Digite um número para entrar na sua média ou \"ok\" para calcular o valor:8\n",
            "Digite um número para entrar na sua média ou \"ok\" para calcular o valor:9\n",
            "Digite um número para entrar na sua média ou \"ok\" para calcular o valor:ok\n",
            "a média calculada para os valores [8.0, 9.0] foi de 8.5\n"
          ]
        }
      ],
      "source": [
        "def calcular_media(valores):\n",
        "  tamanho = len(valores) # Use len() to get the number of items in the list\n",
        "  soma = 0.0\n",
        "  for valor in valores: # No need to use enumerate here, we just need the values\n",
        "      soma += valor\n",
        "  media = soma / tamanho if tamanho > 0 else 0 # Handle the case where the list is empty\n",
        "  return media # Return the calculated average\n",
        "\n",
        "continuar = True\n",
        "valores = []\n",
        "while continuar:\n",
        "  valor = input('Digite um número para entrar na sua média ou \"ok\" para calcular o valor:')\n",
        "  if valor.lower() == 'ok':\n",
        "    continuar = False # Set 'continuar' to False to exit the loop\n",
        "  else:\n",
        "    try:\n",
        "      valores.append(float(valor)) # Convert the input to a number and add it to the list\n",
        "    except ValueError:\n",
        "      print('Valor inválido. Por favor, digite um número ou \"ok\".')\n",
        "\n",
        "media = calcular_media(valores)\n",
        "print('a média calculada para os valores {} foi de {}'.format(valores, media))"
      ]
    }
  ]
}